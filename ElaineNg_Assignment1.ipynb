{
  "nbformat": 4,
  "nbformat_minor": 0,
  "metadata": {
    "colab": {
      "name": "ElaineNg_Assignment1.ipynb",
      "provenance": [],
      "collapsed_sections": []
    },
    "kernelspec": {
      "name": "python3",
      "display_name": "Python 3"
    }
  },
  "cells": [
    {
      "cell_type": "code",
      "metadata": {
        "id": "HQNjr6LCOMz2",
        "colab_type": "code",
        "colab": {}
      },
      "source": [
        "#Author: Elaine Ng\n",
        "#Date: September 24, 2020\n",
        "\n",
        "#Importing all the libraries that I need for this assignment\n",
        "import pandas as pd\n",
        "from pandas import DataFrame\n",
        "import numpy as np\n",
        "from sklearn.linear_model import LinearRegression\n",
        "import matplotlib.pyplot as plt\n",
        "from math import sqrt\n",
        "from collections import Counter"
      ],
      "execution_count": 56,
      "outputs": []
    },
    {
      "cell_type": "code",
      "metadata": {
        "id": "BrzA_YA1PHN3",
        "colab_type": "code",
        "colab": {
          "base_uri": "https://localhost:8080/",
          "height": 221
        },
        "outputId": "34114db3-e7ee-4338-b698-b228f9fa84e0"
      },
      "source": [
        "#PART 1: Data Exploration\n",
        "#Importing the dataset\n",
        "url = \"https://archive.ics.uci.edu/ml/machine-learning-databases/iris/iris.data\"\n",
        "new_names = ['sepal_length', 'sepal_width', 'petal_length', 'petal_width', 'iris_class']\n",
        "dataset = pd.read_csv(url, names = new_names, header = None)\n",
        "dataset.info()\n",
        "dataset.head(30)\n",
        "\n",
        "numpy_version = dataset.values\n",
        "#print(type(numpy_version))\n",
        "x_values = numpy_version[ : ,0:4] \n",
        "#print(x_values)\n",
        "y_values = numpy_version[:,4]\n",
        "#print(y_values)"
      ],
      "execution_count": 57,
      "outputs": [
        {
          "output_type": "stream",
          "text": [
            "<class 'pandas.core.frame.DataFrame'>\n",
            "RangeIndex: 150 entries, 0 to 149\n",
            "Data columns (total 5 columns):\n",
            " #   Column        Non-Null Count  Dtype  \n",
            "---  ------        --------------  -----  \n",
            " 0   sepal_length  150 non-null    float64\n",
            " 1   sepal_width   150 non-null    float64\n",
            " 2   petal_length  150 non-null    float64\n",
            " 3   petal_width   150 non-null    float64\n",
            " 4   iris_class    150 non-null    object \n",
            "dtypes: float64(4), object(1)\n",
            "memory usage: 6.0+ KB\n"
          ],
          "name": "stdout"
        }
      ]
    },
    {
      "cell_type": "code",
      "metadata": {
        "id": "DzPAaSadQ0-8",
        "colab_type": "code",
        "colab": {
          "base_uri": "https://localhost:8080/",
          "height": 85
        },
        "outputId": "48616fdd-16d8-49c8-a8ed-85c62e3a1754"
      },
      "source": [
        "#Question 1: Getting the number of classes and how many dataset there is for each class\n",
        "dataset.iris_class.value_counts()"
      ],
      "execution_count": 58,
      "outputs": [
        {
          "output_type": "execute_result",
          "data": {
            "text/plain": [
              "Iris-setosa        50\n",
              "Iris-versicolor    50\n",
              "Iris-virginica     50\n",
              "Name: iris_class, dtype: int64"
            ]
          },
          "metadata": {
            "tags": []
          },
          "execution_count": 58
        }
      ]
    },
    {
      "cell_type": "code",
      "metadata": {
        "id": "Wcm2qZjFTYge",
        "colab_type": "code",
        "colab": {
          "base_uri": "https://localhost:8080/",
          "height": 153
        },
        "outputId": "e4bd5281-d2cb-40f7-ebcc-c4549747663e"
      },
      "source": [
        "#Question 2: Min and Max of each attributes\n",
        "print(\"Min sepal_length = {} cm\".format(dataset.sepal_length.min()))\n",
        "print(\"Max sepal_length = {} cm\".format(dataset.sepal_length.max()))\n",
        "\n",
        "print(\"Min sepal_width = {} cm\".format(dataset.sepal_width.min()))\n",
        "print(\"Max sepal_width = {} cm\".format(dataset.sepal_width.max()))\n",
        "\n",
        "print(\"Min petal_length = {} cm\".format(dataset.petal_length.min()))\n",
        "print(\"Max petal_length = {} cm\".format(dataset.petal_length.max()))\n",
        "\n",
        "print(\"Min petal_width = {} cm\".format(dataset.petal_width.min()))\n",
        "print(\"Max petal_width = {} cm\".format(dataset.petal_width.max()))"
      ],
      "execution_count": 59,
      "outputs": [
        {
          "output_type": "stream",
          "text": [
            "Min sepal_length = 4.3 cm\n",
            "Max sepal_length = 7.9 cm\n",
            "Min sepal_width = 2.0 cm\n",
            "Max sepal_width = 4.4 cm\n",
            "Min petal_length = 1.0 cm\n",
            "Max petal_length = 6.9 cm\n",
            "Min petal_width = 0.1 cm\n",
            "Max petal_width = 2.5 cm\n"
          ],
          "name": "stdout"
        }
      ]
    },
    {
      "cell_type": "code",
      "metadata": {
        "id": "M7mfRdUdVpI4",
        "colab_type": "code",
        "colab": {
          "base_uri": "https://localhost:8080/",
          "height": 313
        },
        "outputId": "2db6f55c-1118-43c2-a546-35c382ee7db8"
      },
      "source": [
        "#Question 3A: Scatterplot of sepal_length vs sepal_width\n",
        "x = dataset.sepal_length\n",
        "y = dataset.sepal_width\n",
        "plt.scatter(x,y)\n",
        "plt.xlabel('sepal_length')\n",
        "plt.ylabel('sepal_width')\n",
        "plt.title('sepal_length vs sepal_width')\n",
        "plt.show"
      ],
      "execution_count": 60,
      "outputs": [
        {
          "output_type": "execute_result",
          "data": {
            "text/plain": [
              "<function matplotlib.pyplot.show>"
            ]
          },
          "metadata": {
            "tags": []
          },
          "execution_count": 60
        },
        {
          "output_type": "display_data",
          "data": {
            "image/png": "[encoded data removed]",
            "text/plain": [
              "<Figure size 432x288 with 1 Axes>"
            ]
          },
          "metadata": {
            "tags": [],
            "needs_background": "light"
          }
        }
      ]
    },
    {
      "cell_type": "code",
      "metadata": {
        "id": "-6RauO7EX_0e",
        "colab_type": "code",
        "colab": {
          "base_uri": "https://localhost:8080/",
          "height": 313
        },
        "outputId": "eef149b2-118f-42ca-cb8a-fd440c3358f8"
      },
      "source": [
        "#Question 3B: Scatterplot of petal_length vs petal_width\n",
        "x = dataset.petal_length\n",
        "y = dataset.petal_width\n",
        "plt.scatter(x,y)\n",
        "plt.xlabel('petal_length')\n",
        "plt.ylabel('petal_width')\n",
        "plt.title('petal_length vs petal_width')\n",
        "plt.show"
      ],
      "execution_count": 61,
      "outputs": [
        {
          "output_type": "execute_result",
          "data": {
            "text/plain": [
              "<function matplotlib.pyplot.show>"
            ]
          },
          "metadata": {
            "tags": []
          },
          "execution_count": 61
        },
        {
          "output_type": "display_data",
          "data": {
            "image/png": "[encoded data removed]",
            "text/plain": [
              "<Figure size 432x288 with 1 Axes>"
            ]
          },
          "metadata": {
            "tags": [],
            "needs_background": "light"
          }
        }
      ]
    },
    {
      "cell_type": "code",
      "metadata": {
        "id": "hDTeYh9XgSnY",
        "colab_type": "code",
        "colab": {
          "base_uri": "https://localhost:8080/",
          "height": 51
        },
        "outputId": "f1641f60-5379-42c4-fa6c-2d96998b02aa"
      },
      "source": [
        "#Question 4A: R^2 for sepal_length and sepal_width\n",
        "X = np.array(dataset.sepal_length).reshape(-1,1)\n",
        "y = np.array(dataset.sepal_width).reshape(-1,1)\n",
        "reg = LinearRegression().fit(X, y)\n",
        "print('The R^2 for sepal_length and sepal_width is:')\n",
        "reg.score(X, y)"
      ],
      "execution_count": 62,
      "outputs": [
        {
          "output_type": "stream",
          "text": [
            "The R^2 for sepal_length and sepal_width is:\n"
          ],
          "name": "stdout"
        },
        {
          "output_type": "execute_result",
          "data": {
            "text/plain": [
              "0.0119616328347677"
            ]
          },
          "metadata": {
            "tags": []
          },
          "execution_count": 62
        }
      ]
    },
    {
      "cell_type": "code",
      "metadata": {
        "id": "8b6AJKPSl8W-",
        "colab_type": "code",
        "colab": {
          "base_uri": "https://localhost:8080/",
          "height": 51
        },
        "outputId": "1980365a-71b0-468a-a759-7a760e0a2849"
      },
      "source": [
        "#Question 4B: R^2 for petal_length and petal_width\n",
        "X = np.array(dataset.petal_length).reshape(-1,1)\n",
        "y = np.array(dataset.petal_width).reshape(-1,1)\n",
        "reg = LinearRegression().fit(X, y)\n",
        "print('The R^2 for petal_length and petal_width is:')\n",
        "reg.score(X, y)"
      ],
      "execution_count": 63,
      "outputs": [
        {
          "output_type": "stream",
          "text": [
            "The R^2 for petal_length and petal_width is:\n"
          ],
          "name": "stdout"
        },
        {
          "output_type": "execute_result",
          "data": {
            "text/plain": [
              "0.9269012279220037"
            ]
          },
          "metadata": {
            "tags": []
          },
          "execution_count": 63
        }
      ]
    },
    {
      "cell_type": "code",
      "metadata": {
        "id": "o6e4ZX7MGWhQ",
        "colab_type": "code",
        "colab": {}
      },
      "source": [
        "#PART 2: k Nearest Neighbor\n",
        "#Importing the dataset and randomizing it. \n",
        "url = \"https://archive.ics.uci.edu/ml/machine-learning-databases/iris/iris.data\"\n",
        "new_names = ['sepal_length', 'sepal_width', 'petal_length', 'petal_width', 'iris_class']\n",
        "iris_df = pd.read_csv(url, header=None, names = new_names)\n",
        "iris_df = iris_df.sample(frac=1, random_state=123).reset_index(drop=True)\n",
        "\n",
        "iris = iris_df.values\n",
        "X = iris[:,0:4]\n",
        "y = iris[:,4]\n",
        "\n",
        "#Declaring tables used to calculate accuracy \n",
        "accuracy_array = [0, 0, 0, 0, 0]\n",
        "average_accuracy = [0, 0, 0, 0]"
      ],
      "execution_count": 64,
      "outputs": []
    },
    {
      "cell_type": "code",
      "metadata": {
        "id": "K74DBCoa_djh",
        "colab_type": "code",
        "colab": {}
      },
      "source": [
        "#Question 1: KNN classifier\n",
        "\n",
        "#Calculating the Euclidean Distance\n",
        "def euclidean_distance(point1, point2):\n",
        "  return np.sqrt(np.sum((point1 - point2)**2))\n",
        "\n",
        "#Calculating accuracy \n",
        "def accuracy(y_true, y_pred):\n",
        "  accuracy = np.sum(y_true == y_pred) / len(y_true)\n",
        "  return accuracy\n",
        "\n",
        "#The KNN classifier\n",
        "class KNN:\n",
        "  def __init__(self, k = 1):\n",
        "    self.k = k\n",
        "\n",
        "#Fit the data\n",
        "  def fit(self, X, y):\n",
        "    self.X_train = X\n",
        "    self.y_train = y\n",
        "\n",
        "#Predict the class given a dataset\n",
        "  def predict(self, X):\n",
        "    y_pred = [self.pred(x) for x in X]\n",
        "    return np.array(y_pred)\n",
        "\n",
        "#Voting for the k nearest neighbor\n",
        "  def pred(self, x):\n",
        "        distances = [euclidean_distance(x, x_train) for x_train in self.X_train]\n",
        "        k_indices = np.argsort(distances)[:self.k]\n",
        "        k_neighbor_labels = [self.y_train[i] for i in k_indices]  \n",
        "        vote = Counter(k_neighbor_labels).most_common(1)\n",
        "        return vote[0][0]\n",
        "\n"
      ],
      "execution_count": 65,
      "outputs": []
    },
    {
      "cell_type": "code",
      "metadata": {
        "id": "Bwn_uBJuMRod",
        "colab_type": "code",
        "colab": {
          "base_uri": "https://localhost:8080/",
          "height": 85
        },
        "outputId": "d3365d79-0462-4e93-e904-9a4c9d45851b"
      },
      "source": [
        "#KNN classifier with five-fold cross validation for k = 1\n",
        "#Question 2: Accuracy for each fold and the average accuracy across all 5 folds for k = 1\n",
        "\n",
        "#Splitting datasets into 5 folds\n",
        "X_fold1 = X[0:30]\n",
        "y_fold1 = y[0:30]\n",
        "X_fold2 = X[30:60]\n",
        "y_fold2 = y[30:60]\n",
        "X_fold3 = X[60:90]\n",
        "y_fold3 = y[60:90]\n",
        "X_fold4 = X[90:120]\n",
        "y_fold4 = y[90:120]\n",
        "X_fold5 = X[120:150]\n",
        "y_fold5 = y[120:150]\n",
        "\n",
        "#For k = 1, fold = 1\n",
        "X_test = X[0:30]\n",
        "y_test = y[0:30]\n",
        "X_train = X[30:150]\n",
        "y_train = y[30:150]\n",
        "k = 1\n",
        "clf = KNN(k=k)\n",
        "clf.fit(X_train, y_train)\n",
        "\n",
        "predictions = clf.predict(X_fold1)\n",
        "accuracy_array[0] = accuracy(y_fold1, predictions)\n",
        "\n",
        "#For k = 1, fold = 2\n",
        "X_test = X[30:60]\n",
        "y_test = y[30:60]\n",
        "X_train = np.concatenate([X[0:30], X[60:150]])\n",
        "y_train = np.concatenate([y[0:30], y[60:150]])\n",
        "\n",
        "k = 1\n",
        "clf = KNN(k=k)\n",
        "clf.fit(X_train, y_train)\n",
        "\n",
        "predictions = clf.predict(X_fold2)\n",
        "accuracy_array[1] = accuracy(y_fold2, predictions)\n",
        "\n",
        "#For k = 1, fold = 3\n",
        "X_test = X[60:90]\n",
        "y_test = y[60:90]\n",
        "X_train = np.concatenate([X[0:60], X[90:150]])\n",
        "y_train = np.concatenate([y[0:60], y[90:150]])\n",
        "\n",
        "k = 1\n",
        "clf = KNN(k=k)\n",
        "clf.fit(X_train, y_train)\n",
        "\n",
        "predictions = clf.predict(X_fold3)\n",
        "accuracy_array[2] = accuracy(y_fold3, predictions)\n",
        "\n",
        "#For k = 1, fold = 4\n",
        "X_test = X[90:120]\n",
        "y_test = y[90:120]\n",
        "X_train = np.concatenate([X[0:90], X[120:150]])\n",
        "y_train = np.concatenate([y[0:90], y[120:150]])\n",
        "\n",
        "k = 1\n",
        "clf = KNN(k=k)\n",
        "clf.fit(X_train, y_train)\n",
        "\n",
        "predictions = clf.predict(X_fold4)\n",
        "accuracy_array[3] = accuracy(y_fold4, predictions)\n",
        "\n",
        "#For k = 1, fold = 5\n",
        "X_test = X[120:150]\n",
        "y_test = y[120:150]\n",
        "X_train = X[:120]\n",
        "y_train = y[:120]\n",
        "\n",
        "k = 1\n",
        "clf = KNN(k=k)\n",
        "clf.fit(X_train, y_train)\n",
        "\n",
        "predictions = clf.predict(X_fold5)\n",
        "accuracy_array[4] = accuracy(y_fold5, predictions)\n",
        "\n",
        "#Printing the accuracy array for all folds for k = 1\n",
        "print('The accuracy for each fold is in the array below:')\n",
        "print(accuracy_array)\n",
        "\n",
        "#Calculating the average accuracy for k = 1 over the 5 folds\n",
        "average_accuracy[0] = np.sum(accuracy_array) / 5\n",
        "print('The average accuracy for k = %d:' %k)\n",
        "print(average_accuracy[0])"
      ],
      "execution_count": 66,
      "outputs": [
        {
          "output_type": "stream",
          "text": [
            "The accuracy for each fold is in the array below:\n",
            "[0.9, 0.9666666666666667, 0.9666666666666667, 1.0, 0.9333333333333333]\n",
            "The average accuracy for k = 1:\n",
            "0.9533333333333334\n"
          ],
          "name": "stdout"
        }
      ]
    },
    {
      "cell_type": "code",
      "metadata": {
        "id": "esh2JjcuEitN",
        "colab_type": "code",
        "colab": {
          "base_uri": "https://localhost:8080/",
          "height": 85
        },
        "outputId": "6e43a090-9ab8-4b4d-af03-71d01a1e0aab"
      },
      "source": [
        "#Finding the accuracy for each fold and the average accuracy for k = 3\n",
        "\n",
        "#For k = 3, fold = 1\n",
        "X_test = X[0:30]\n",
        "y_test = y[0:30]\n",
        "X_train = X[30:150]\n",
        "y_train = y[30:150]\n",
        "\n",
        "k = 3\n",
        "clf = KNN(k=k)\n",
        "clf.fit(X_train, y_train)\n",
        "\n",
        "predictions = clf.predict(X_fold1)\n",
        "accuracy_array[0] = accuracy(y_fold1, predictions)\n",
        "\n",
        "#For k = 3, fold = 2\n",
        "X_test = X[30:60]\n",
        "y_test = y[30:60]\n",
        "X_train = np.concatenate([X[0:30], X[60:150]])\n",
        "y_train = np.concatenate([y[0:30], y[60:150]])\n",
        "\n",
        "k = 3\n",
        "clf = KNN(k=k)\n",
        "clf.fit(X_train, y_train)\n",
        "\n",
        "predictions = clf.predict(X_fold2)\n",
        "accuracy_array[1] = accuracy(y_fold2, predictions)\n",
        "\n",
        "#For k = 3, fold = 3\n",
        "X_test = X[60:90]\n",
        "y_test = y[60:90]\n",
        "X_train = np.concatenate([X[0:60], X[90:150]])\n",
        "y_train = np.concatenate([y[0:60], y[90:150]])\n",
        "\n",
        "k = 3\n",
        "clf = KNN(k=k)\n",
        "clf.fit(X_train, y_train)\n",
        "\n",
        "predictions = clf.predict(X_fold3)\n",
        "accuracy_array[2] = accuracy(y_fold3, predictions)\n",
        "\n",
        "#For k = 3, fold = 4\n",
        "X_test = X[90:120]\n",
        "y_test = y[90:120]\n",
        "X_train = np.concatenate([X[0:90], X[120:150]])\n",
        "y_train = np.concatenate([y[0:90], y[120:150]])\n",
        "\n",
        "k = 3\n",
        "clf = KNN(k=k)\n",
        "clf.fit(X_train, y_train)\n",
        "\n",
        "predictions = clf.predict(X_fold4)\n",
        "accuracy_array[3] = accuracy(y_fold4, predictions)\n",
        "\n",
        "#For k = 3, fold = 5\n",
        "X_test = X[120:150]\n",
        "y_test = y[120:150]\n",
        "X_train = X[:120]\n",
        "y_train = y[:120]\n",
        "\n",
        "k = 3\n",
        "clf = KNN(k=k)\n",
        "clf.fit(X_train, y_train)\n",
        "\n",
        "predictions = clf.predict(X_fold5)\n",
        "accuracy_array[4] = accuracy(y_fold5, predictions)\n",
        "\n",
        "#Printing the accuracy array for all folds for k = 3\n",
        "print('The accuracy for each fold is in the array below:')\n",
        "print(accuracy_array)\n",
        "\n",
        "#Calculating the average accuracy for k = 3 over the 5 folds\n",
        "average_accuracy[1] = np.sum(accuracy_array) / 5\n",
        "print('The average accuracy for k = %d:' %k)\n",
        "print(average_accuracy[1])"
      ],
      "execution_count": 67,
      "outputs": [
        {
          "output_type": "stream",
          "text": [
            "The accuracy for each fold is in the array below:\n",
            "[0.9666666666666667, 0.9666666666666667, 0.9666666666666667, 0.9666666666666667, 0.9333333333333333]\n",
            "The average accuracy for k = 3:\n",
            "0.96\n"
          ],
          "name": "stdout"
        }
      ]
    },
    {
      "cell_type": "code",
      "metadata": {
        "id": "VwM1AKBeFXU3",
        "colab_type": "code",
        "colab": {
          "base_uri": "https://localhost:8080/",
          "height": 85
        },
        "outputId": "fbb16242-b06b-4b01-9501-a4adecb104ad"
      },
      "source": [
        "#Finding the accuracy for each fold and the average accuracy for k = 5\n",
        "\n",
        "#For k = 5, fold = 1\n",
        "X_test = X[0:30]\n",
        "y_test = y[0:30]\n",
        "X_train = X[30:150]\n",
        "y_train = y[30:150]\n",
        "\n",
        "k = 5\n",
        "clf = KNN(k=k)\n",
        "clf.fit(X_train, y_train)\n",
        "\n",
        "predictions = clf.predict(X_fold1)\n",
        "accuracy_array[0] = accuracy(y_fold1, predictions)\n",
        "\n",
        "#For k = 5, fold = 2\n",
        "X_test = X[30:60]\n",
        "y_test = y[30:60]\n",
        "X_train = np.concatenate([X[0:30], X[60:150]])\n",
        "y_train = np.concatenate([y[0:30], y[60:150]])\n",
        "\n",
        "k = 5\n",
        "clf = KNN(k=k)\n",
        "clf.fit(X_train, y_train)\n",
        "\n",
        "predictions = clf.predict(X_fold2)\n",
        "accuracy_array[1] = accuracy(y_fold2, predictions)\n",
        "\n",
        "#For k = 5, fold = 3\n",
        "X_test = X[60:90]\n",
        "y_test = y[60:90]\n",
        "X_train = np.concatenate([X[0:60], X[90:150]])\n",
        "y_train = np.concatenate([y[0:60], y[90:150]])\n",
        "\n",
        "k = 5\n",
        "clf = KNN(k=k)\n",
        "clf.fit(X_train, y_train)\n",
        "\n",
        "predictions = clf.predict(X_fold3)\n",
        "accuracy_array[2] = accuracy(y_fold3, predictions)\n",
        "\n",
        "#For k = 5, fold = 4\n",
        "X_test = X[90:120]\n",
        "y_test = y[90:120]\n",
        "X_train = np.concatenate([X[0:90], X[120:150]])\n",
        "y_train = np.concatenate([y[0:90], y[120:150]])\n",
        "\n",
        "k = 5\n",
        "clf = KNN(k=k)\n",
        "clf.fit(X_train, y_train)\n",
        "\n",
        "predictions = clf.predict(X_fold4)\n",
        "accuracy_array[3] = accuracy(y_fold4, predictions)\n",
        "\n",
        "#For k = 5, fold = 5\n",
        "X_test = X[120:150]\n",
        "y_test = y[120:150]\n",
        "X_train = X[:120]\n",
        "y_train = y[:120]\n",
        "\n",
        "k = 5\n",
        "clf = KNN(k=k)\n",
        "clf.fit(X_train, y_train)\n",
        "\n",
        "predictions = clf.predict(X_fold5)\n",
        "accuracy_array[4] = accuracy(y_fold5, predictions)\n",
        "\n",
        "#Printing the accuracy array for all folds for k = 5\n",
        "print('The accuracy for each fold is in the array below:')\n",
        "print(accuracy_array)\n",
        "\n",
        "#Calculating the average accuracy for k = 5 over the 5 folds\n",
        "average_accuracy[2] = np.sum(accuracy_array) / 5\n",
        "print('The average accuracy for k = %d:' %k)\n",
        "print(average_accuracy[2])"
      ],
      "execution_count": 68,
      "outputs": [
        {
          "output_type": "stream",
          "text": [
            "The accuracy for each fold is in the array below:\n",
            "[0.9666666666666667, 0.9666666666666667, 0.9666666666666667, 0.9666666666666667, 0.9333333333333333]\n",
            "The average accuracy for k = 5:\n",
            "0.96\n"
          ],
          "name": "stdout"
        }
      ]
    },
    {
      "cell_type": "code",
      "metadata": {
        "id": "7jtMztzmFp6h",
        "colab_type": "code",
        "colab": {
          "base_uri": "https://localhost:8080/",
          "height": 85
        },
        "outputId": "9db600ad-c18d-46a8-b4c9-4acba5571352"
      },
      "source": [
        "#Finding the accuracy for each fold and the average accuracy for k = 7\n",
        "\n",
        "#For k = 7, fold = 1\n",
        "X_test = X[0:30]\n",
        "y_test = y[0:30]\n",
        "X_train = X[30:150]\n",
        "y_train = y[30:150]\n",
        "\n",
        "k = 7\n",
        "clf = KNN(k=k)\n",
        "clf.fit(X_train, y_train)\n",
        "\n",
        "predictions = clf.predict(X_fold1)\n",
        "accuracy_array[0] = accuracy(y_fold1, predictions)\n",
        "\n",
        "#For k = 7, fold = 2\n",
        "X_test = X[30:60]\n",
        "y_test = y[30:60]\n",
        "X_train = np.concatenate([X[0:30], X[60:150]])\n",
        "y_train = np.concatenate([y[0:30], y[60:150]])\n",
        "\n",
        "k = 7\n",
        "clf = KNN(k=k)\n",
        "clf.fit(X_train, y_train)\n",
        "\n",
        "predictions = clf.predict(X_fold2)\n",
        "accuracy_array[1] = accuracy(y_fold2, predictions)\n",
        "\n",
        "#For k = 7, fold = 3\n",
        "X_test = X[60:90]\n",
        "y_test = y[60:90]\n",
        "X_train = np.concatenate([X[0:60], X[90:150]])\n",
        "y_train = np.concatenate([y[0:60], y[90:150]])\n",
        "\n",
        "k = 7\n",
        "clf = KNN(k=k)\n",
        "clf.fit(X_train, y_train)\n",
        "\n",
        "predictions = clf.predict(X_fold3)\n",
        "accuracy_array[2] = accuracy(y_fold3, predictions)\n",
        "\n",
        "#For k = 7, fold = 4\n",
        "X_test = X[90:120]\n",
        "y_test = y[90:120]\n",
        "X_train = np.concatenate([X[0:90], X[120:150]])\n",
        "y_train = np.concatenate([y[0:90], y[120:150]])\n",
        "\n",
        "k = 7\n",
        "clf = KNN(k=k)\n",
        "clf.fit(X_train, y_train)\n",
        "\n",
        "predictions = clf.predict(X_fold4)\n",
        "accuracy_array[3] = accuracy(y_fold4, predictions)\n",
        "\n",
        "#For k = 7, fold = 5\n",
        "X_test = X[120:150]\n",
        "y_test = y[120:150]\n",
        "X_train = X[:120]\n",
        "y_train = y[:120]\n",
        "\n",
        "k = 7\n",
        "clf = KNN(k=k)\n",
        "clf.fit(X_train, y_train)\n",
        "\n",
        "predictions = clf.predict(X_fold5)\n",
        "accuracy_array[4] = accuracy(y_fold5, predictions)\n",
        "\n",
        "#Printing the accuracy array for all folds for k = 7\n",
        "print('The accuracy for each fold is in the array below:')\n",
        "print(accuracy_array)\n",
        "\n",
        "#Calculating the average accuracy for k = 7 over the 5 folds\n",
        "average_accuracy[3] = np.sum(accuracy_array) / 5\n",
        "print('The average accuracy for k = %d:' %k)\n",
        "print(average_accuracy[3])"
      ],
      "execution_count": 69,
      "outputs": [
        {
          "output_type": "stream",
          "text": [
            "The accuracy for each fold is in the array below:\n",
            "[0.9333333333333333, 1.0, 1.0, 0.9666666666666667, 0.9333333333333333]\n",
            "The average accuracy for k = 7:\n",
            "0.9666666666666668\n"
          ],
          "name": "stdout"
        }
      ]
    },
    {
      "cell_type": "code",
      "metadata": {
        "id": "WgmnGdIgZsk6",
        "colab_type": "code",
        "colab": {
          "base_uri": "https://localhost:8080/",
          "height": 173
        },
        "outputId": "d43329e8-16e9-4ad4-fb37-27141c3d51ab"
      },
      "source": [
        "#Question 3: Create a table showing the performance of k = 1, 3, 5, and 7 in percentages\n",
        "table = DataFrame({'K': [1, 3, 5, 7], 'Accuracy': [average_accuracy[0]*100, average_accuracy[1]*100, average_accuracy[2]*100, average_accuracy[3]*100]})\n",
        "table"
      ],
      "execution_count": 70,
      "outputs": [
        {
          "output_type": "execute_result",
          "data": {
            "text/html": [
              "<div>\n",
              "<style scoped>\n",
              "    .dataframe tbody tr th:only-of-type {\n",
              "        vertical-align: middle;\n",
              "    }\n",
              "\n",
              "    .dataframe tbody tr th {\n",
              "        vertical-align: top;\n",
              "    }\n",
              "\n",
              "    .dataframe thead th {\n",
              "        text-align: right;\n",
              "    }\n",
              "</style>\n",
              "<table border=\"1\" class=\"dataframe\">\n",
              "  <thead>\n",
              "    <tr style=\"text-align: right;\">\n",
              "      <th></th>\n",
              "      <th>K</th>\n",
              "      <th>Accuracy</th>\n",
              "    </tr>\n",
              "  </thead>\n",
              "  <tbody>\n",
              "    <tr>\n",
              "      <th>0</th>\n",
              "      <td>1</td>\n",
              "      <td>95.333333</td>\n",
              "    </tr>\n",
              "    <tr>\n",
              "      <th>1</th>\n",
              "      <td>3</td>\n",
              "      <td>96.000000</td>\n",
              "    </tr>\n",
              "    <tr>\n",
              "      <th>2</th>\n",
              "      <td>5</td>\n",
              "      <td>96.000000</td>\n",
              "    </tr>\n",
              "    <tr>\n",
              "      <th>3</th>\n",
              "      <td>7</td>\n",
              "      <td>96.666667</td>\n",
              "    </tr>\n",
              "  </tbody>\n",
              "</table>\n",
              "</div>"
            ],
            "text/plain": [
              "   K   Accuracy\n",
              "0  1  95.333333\n",
              "1  3  96.000000\n",
              "2  5  96.000000\n",
              "3  7  96.666667"
            ]
          },
          "metadata": {
            "tags": []
          },
          "execution_count": 70
        }
      ]
    }
  ]
}